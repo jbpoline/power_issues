{
 "metadata": {
  "name": ""
 },
 "nbformat": 3,
 "nbformat_minor": 0,
 "worksheets": [
  {
   "cells": [
    {
     "cell_type": "heading",
     "level": 1,
     "metadata": {},
     "source": [
      "Power issues in neuroscience and neuroimaging"
     ]
    },
    {
     "cell_type": "heading",
     "level": 2,
     "metadata": {},
     "source": [
      "What is power ? "
     ]
    },
    {
     "cell_type": "markdown",
     "metadata": {},
     "source": [
      "*Power : definition*\n",
      "\n",
      "power = $1-\\beta$ where $\\beta$ is the risk of false negative\n",
      "\n",
      "So, to compute power, we need to know what is the risk of false negative, ie, that our study does not show a significant effect while the null is false (the alternative is true).\n",
      "\n",
      "Take the simple example of looking at the mean of an effect $\\mu$, under some normal noise. Our statistic will be something like:"
     ]
    },
    {
     "cell_type": "markdown",
     "metadata": {},
     "source": [
      "$$\n",
      "t = \\frac{\\hat{\\mu}}{\\hat{{SE}_{\\mu}}}\n",
      "$$"
     ]
    },
    {
     "cell_type": "markdown",
     "metadata": {},
     "source": [
      "if our observations are $y_i$ for say $n$ subjects, we estimage\n",
      "\n",
      "$\\hat{\\mu} = \\sum_{i=1}^n y_i /n = \\bar{y}$\n",
      "\n",
      "We suppose : $ y_i \\sim N(\\mu,\\sigma^2) $ and want to test if $\\mu = 0$\n",
      "\n",
      "and for the standard error of the estimated mean we have \n",
      "\n",
      "$Var(\\hat{\\mu}) = \\frac{ \\sum_{i=1}^n Var(y_i) }{n^2} =  \\sigma^2$ / n\n",
      "\n",
      "In general we dont know $\\sigma$, and we need an estimate of it.  This is obtained with \n",
      "\n",
      "$$\n",
      "\\hat{\\sigma^2} = \\frac { \\sum_{i=1}^n (y_i - \\bar{y})^2 }{ n-1 } = \\frac{n}{n-1} RMS    \n",
      "$$\n",
      "\n",
      "RMS : the residual mean square\n",
      "\n",
      "$$\\hat{Var}(\\hat{\\mu}) = \\frac{ RMS}{n - 1}$$\n",
      "\n",
      "and\n",
      "\n",
      "$$ \\hat{SE} = \\sqrt{\\frac{ RMS}{n - 1}} $$\n",
      "\n",
      "So, eventually, we get:\n",
      "\n",
      "$$ \n",
      "t = \\frac{ \\bar{y}}{\\sqrt{\\frac{ RMS}{n - 1}}}\n",
      "$$"
     ]
    },
    {
     "cell_type": "markdown",
     "metadata": {},
     "source": [
      "Let's take a concrete example:\n",
      "\n",
      "say that we have an 3\\% increase in our BOLD signal, per subject, such that the true $\\mu$ is  $\\mu = 3$.\n",
      "\n",
      "Say that our the noise level is 10. So, $\\sigma = 9$, $\\sigma^2 = 81$ \n",
      "\n",
      "What is the chance of detecting that $\\mu$ is greater than zero at the 5\\% risk of error level ?"
     ]
    },
    {
     "cell_type": "markdown",
     "metadata": {},
     "source": [
      "well, our statistics is still the same :\n",
      "\n",
      "$$ \n",
      "t = \\frac{ \\bar{y}}{\\sqrt{\\frac{ RMS}{n - 1}}}\n",
      "$$\n",
      "\n",
      "and the $y_i$ are from $N(\\mu,\\sigma^2)$. \n",
      "\n",
      "It can be shown (with a little bit of calculus) that this t value follows a non central t distribution with $n-1$ degrees of freedom and non centrality parameter $\\theta = \\mu \\sqrt{n}/\\sigma$. We are going to use this for our power analysis. Let's call this distribution probability density function $t_{nc,\\theta,n-1}$, or $t_{nc}$, and its cumulative density function $F_{nc}$"
     ]
    },
    {
     "cell_type": "markdown",
     "metadata": {},
     "source": [
      "Power here would be the probability that the observed t is greater than $t_{.05}$, assuming that we are under the null. So, we compute $t_{.05}$ and ask ourselves what is $P(t > t_{.05})$. To compute this, we need the distribution of t, which is the non central t statistics. \n",
      "\n",
      "$Power = P(t > t_{.05}) = 1. - F_{nc}(t_{.05})$\n"
     ]
    },
    {
     "cell_type": "code",
     "collapsed": false,
     "input": [
      "# plot this as a function of n\n",
      "import scipy.stats as sst\n",
      "import numpy as np\n",
      "from pylab import matplotlib as plt"
     ],
     "language": "python",
     "metadata": {},
     "outputs": [],
     "prompt_number": 1
    },
    {
     "cell_type": "code",
     "collapsed": false,
     "input": [
      "n = 26\n",
      "df = n-1\n",
      "alpha = 0.05\n",
      "mu = 3.\n",
      "sigma = 9.\n",
      "\n",
      "def stat_power(n, mu, sigma, plot=True, alpha=0.05, xlen=500):\n",
      "    \n",
      "    df = n-1\n",
      "    theta = sqrt(n)*mu/sigma\n",
      "    t05_null = sst.t.isf(0.05, df)\n",
      "    ncrv = sst.nct(df, theta)\n",
      "    spow = 1 - ncrv.cdf(t05_null)\n",
      "    norv = sst.norm(0, 1.)\n",
      "    \n",
      "    if plot:\n",
      "        bornesnc = ncrv.isf([0.001, .999])\n",
      "        bornesn = norv.isf([0.001, .999])\n",
      "        x = np.linspace(np.min(bornesn), np.max(bornesnc), xlen)\n",
      "        t_line = np.zeros_like(x)\n",
      "        x_t_line = argmin((x-t05_null)**2)\n",
      "        y_t_line = np.max(np.hstack((ncrv.pdf(x), norv.pdf(x))))\n",
      "        t_line[x_t_line] = y_t_line\n",
      "\n",
      "        h = plt.plot(x, ncrv.pdf(x), x, norv.pdf(x), x, t_line)\n",
      "\n",
      "    return spow\n"
     ],
     "language": "python",
     "metadata": {},
     "outputs": [],
     "prompt_number": 58
    },
    {
     "cell_type": "code",
     "collapsed": false,
     "input": [
      "n=26\n",
      "stat_power(n, mu, sigma, plot=True, alpha=0.05, xlen=500)"
     ],
     "language": "python",
     "metadata": {},
     "outputs": [
      {
       "metadata": {},
       "output_type": "pyout",
       "prompt_number": 59,
       "text": [
        "0.5034294973966118"
       ]
      },
      {
       "metadata": {},
       "output_type": "display_data",
       "png": "[encoded data removed]",
       "text": [
        "<matplotlib.figure.Figure at 0x319ec90>"
       ]
      }
     ],
     "prompt_number": 59
    },
    {
     "cell_type": "code",
     "collapsed": false,
     "input": [
      "pw = [stat_power(n, mu, sigma, plot=False) for n in range(7, 77, 3)]    "
     ],
     "language": "python",
     "metadata": {},
     "outputs": [],
     "prompt_number": 60
    },
    {
     "cell_type": "code",
     "collapsed": false,
     "input": [
      "muse = [1,2,3,4,5,6]\n",
      "nses = range(7, 77, 3)\n",
      "for mu in muse:\n",
      "    pw = [stat_power(n, mu, sigma, plot=False) for n in nses]    \n",
      "    plot(nses, pw)"
     ],
     "language": "python",
     "metadata": {},
     "outputs": [
      {
       "metadata": {},
       "output_type": "display_data",
       "png": "[encoded data removed]",
       "text": [
        "<matplotlib.figure.Figure at 0x352ed50>"
       ]
      }
     ],
     "prompt_number": 65
    },
    {
     "cell_type": "heading",
     "level": 3,
     "metadata": {},
     "source": [
      "Cohen's d value:"
     ]
    },
    {
     "cell_type": "markdown",
     "metadata": {},
     "source": [
      "Cohen's d value simply normalize the sigma such that it is one. in the example above, cohen's d are simply :"
     ]
    },
    {
     "cell_type": "code",
     "collapsed": false,
     "input": [
      "print np.asarray(muse)/sigma"
     ],
     "language": "python",
     "metadata": {},
     "outputs": [
      {
       "output_type": "stream",
       "stream": "stdout",
       "text": [
        "[ 0.11111111  0.22222222  0.33333333  0.44444444  0.55555556  0.66666667]\n"
       ]
      }
     ],
     "prompt_number": 68
    },
    {
     "cell_type": "markdown",
     "metadata": {},
     "source": [
      "###https://en.wikipedia.org/wiki/Cohen%27s_d#Cohen.27s_d : ###\n",
      "\n",
      "For Cohen's d an effect size of 0.2 to 0.3 might be a \"small\" effect, around 0.5 a \"medium\" effect and 0.8 to infinity, a \"large\" effect.[7]:25 (But note that the d might be larger than one.)\n",
      "Cohen's text[7] anticipates Lenth's concerns:\n",
      "\n",
      "\"The terms 'small,' 'medium,' and 'large' are relative, not only to each other, but to the area of behavioral science or even more particularly to the specific content and research method being employed in any given investigation....In the face of this relativity, there is a certain risk inherent in offering conventional operational definitions for these terms for use in power analysis in as diverse a field of inquiry as behavioral science. This risk is nevertheless accepted in the belief that more is to be gained than lost by supplying a common conventional frame of reference which is recommended for use only when no better basis for estimating the ES index is available.\" (p. 25)\n"
     ]
    },
    {
     "cell_type": "heading",
     "level": 2,
     "metadata": {},
     "source": [
      "Button et al. : three messages"
     ]
    },
    {
     "cell_type": "heading",
     "level": 3,
     "metadata": {},
     "source": [
      "message1 : studies of low power have low probability of detecting an effect"
     ]
    },
    {
     "cell_type": "markdown",
     "metadata": {},
     "source": [
      "From the definition of power !"
     ]
    },
    {
     "cell_type": "heading",
     "level": 3,
     "metadata": {},
     "source": [
      "message2 : studies of low power have low positive predictive value : P(H1 True | detection)"
     ]
    },
    {
     "cell_type": "markdown",
     "metadata": {},
     "source": [
      "Same as Ioannidis : \n",
      "Say that $H_1$ is the event that the alternative hypothesis is true, \n",
      "that $H_0$ is the event that the null hypothesis is true, $P_1 = P(H_1), P_0 = P(H_0)$, $D$ is the event of detection and $N$ is the event of no detection. \n",
      "\n",
      "$$\n",
      "PPV = \\frac{(1-\\beta)R}{(1-\\beta)R + \\alpha},\\textrm{ with } R = P(H_1)/P(H_0) = P_1 / P_0\n",
      "$$\n",
      "Hence, \n",
      "$$\n",
      "PPV = \\frac{(1-\\beta)P_1}{P_0}\\frac{P_0}{(1-\\beta)P_1 + \\alpha P_0} = \\frac{(1-\\beta)P_1}{(1-\\beta)P_1 + \\alpha P_0} = P(H_1, D) / P(D) = P(H_1 | D) \n",
      "$$"
     ]
    },
    {
     "cell_type": "markdown",
     "metadata": {},
     "source": [
      "If we have 4 chances over 5 that $H_0$ is true, and one over five that $H_1$ true, then R = 1/5 / 4/5 = .25. If there's 30% power we have PPV = 50%. So, 50% chance that our result is indeed true. 80% power leads to 80% chance. "
     ]
    },
    {
     "cell_type": "code",
     "collapsed": false,
     "input": [
      "R = .25\n",
      "Pw = .8\n",
      "alph = .05\n",
      "PPV = (Pw * R)/(Pw*R + alph)\n",
      "print PPV"
     ],
     "language": "python",
     "metadata": {},
     "outputs": [
      {
       "output_type": "stream",
       "stream": "stdout",
       "text": [
        "0.8\n"
       ]
      }
     ],
     "prompt_number": 71
    },
    {
     "cell_type": "heading",
     "level": 3,
     "metadata": {},
     "source": [
      "message3 : studies of low power exagerate the effect size of claimed effects"
     ]
    },
    {
     "cell_type": "heading",
     "level": 2,
     "metadata": {},
     "source": [
      "References"
     ]
    },
    {
     "cell_type": "markdown",
     "metadata": {},
     "source": [
      "K. Friston, 2012, Neuroimage. Ten ironic rules for non-statistical reviewers\n",
      "\n",
      "Carp, J. The secret lives of experiments: methods\n",
      "reporting in the fMRI literature. Neuroimage 63,\n",
      "289\u2013300 (2012).\n",
      "\n",
      "This article reviews methods reporting and\n",
      "methodological choices across 241 recent fMRI\n",
      "studies and shows that there were nearly as many\n",
      "unique analytical pipelines as there were studies. In\n",
      "addition, many studies were underpowered to\n",
      "detect plausible effects.\n"
     ]
    },
    {
     "cell_type": "code",
     "collapsed": false,
     "input": [],
     "language": "python",
     "metadata": {},
     "outputs": []
    }
   ],
   "metadata": {}
  }
 ]
}