{
 "metadata": {
  "name": ""
 },
 "nbformat": 3,
 "nbformat_minor": 0,
 "worksheets": [
  {
   "cells": [
    {
     "cell_type": "heading",
     "level": 1,
     "metadata": {},
     "source": [
      "Power issues in neuroscience and neuroimaging"
     ]
    },
    {
     "cell_type": "heading",
     "level": 2,
     "metadata": {},
     "source": [
      "What is power ? "
     ]
    },
    {
     "cell_type": "markdown",
     "metadata": {},
     "source": [
      "**Power : definition**\n",
      "\n",
      "power = $1-\\beta$ where $\\beta$ is the risk of false negative\n",
      "\n",
      "So, to compute power, *we need to know what is the risk of false negative*, ie, the risk to not show a significant effect while we have some signal (null is false).\n",
      "\n",
      "Take the simple example of looking at the mean of an effect $\\mu$, under some normal noise. Our statistic will be something like:\n",
      "\n",
      "$$\n",
      "t = \\frac{\\hat{\\mu}}{\\hat{{SE}_{\\mu}}}\n",
      "$$"
     ]
    },
    {
     "cell_type": "markdown",
     "metadata": {},
     "source": [
      "Let's take a concrete example:\n",
      "\n",
      "say that we have an 3\\% increase in our BOLD signal, per subject, such that the true $\\mu$ is  $\\mu = 3$.\n",
      "\n",
      "Say that our the noise level is 10. So, $\\sigma = 9$, $\\sigma^2 = 81$ \n",
      "\n",
      "What is the chance of detecting that $\\mu$ is greater than zero at the 5\\% risk of error level ?"
     ]
    },
    {
     "cell_type": "markdown",
     "metadata": {},
     "source": [
      "Power here would be the probability that the observed t is greater than $t_{.05}$, computing $t_{.05}$ by assuming that we are under the null. So, we compute $t_{.05}$ and ask ourselves what is $P(t > t_{.05})$. To compute this, __we need the distribution of our measured t when we know the signal !__ Let's assume we know it and call it $t_{nc}$, and $F_{nc}$ for the cumulative distribution (more on this in the appendix).\n",
      "\n",
      "$Power = P(t > t_{.05}) = 1. - F_{nc}(t_{.05})$\n"
     ]
    },
    {
     "cell_type": "markdown",
     "metadata": {},
     "source": [
      "This power will depend on $\\mu$, $n$, and $\\sigma$"
     ]
    },
    {
     "cell_type": "code",
     "collapsed": false,
     "input": [
      "import scipy.stats as sst\n",
      "import numpy as np\n",
      "import matplotlib.pyplot as plt"
     ],
     "language": "python",
     "metadata": {},
     "outputs": [],
     "prompt_number": 3
    },
    {
     "cell_type": "code",
     "collapsed": false,
     "input": [
      "# plot power as a function of n : define a little function that \n",
      "# takes n, mu, sigma, alpha, and report n. Optionally plot power as a function of n\n",
      "\n",
      "def stat_power(n=16, mu=1., sigma=1., plot=False, alpha=0.05, xlen=500):\n",
      "    \n",
      "    df = n-1\n",
      "    theta = sqrt(n)*mu/sigma\n",
      "    t_alph_null = sst.t.isf(alpha, df)\n",
      "    ncrv = sst.nct(df, theta)\n",
      "    spow = 1 - ncrv.cdf(t_alph_null)\n",
      "    \n",
      "    if plot:\n",
      "        # define the domain of the plot\n",
      "        norv = sst.norm(0, 1.)\n",
      "        bornesnc = ncrv.isf([0.001, .999])\n",
      "        bornesn = norv.isf([0.001, .999])\n",
      "        # because the nc t will have higher max borne, and the H0 normal will be on the left\n",
      "        x = np.linspace(np.min(bornesn), np.max(bornesnc), xlen)\n",
      "        t_line = np.zeros_like(x)\n",
      "        # define the line \n",
      "        x_t_line = argmin((x-t_alph_null)**2)\n",
      "        y_t_line = np.max(np.hstack((ncrv.pdf(x), norv.pdf(x))))\n",
      "        t_line[x_t_line] = y_t_line\n",
      "\n",
      "        fig, ax = plt.subplots()\n",
      "        plt.plot(x, ncrv.pdf(x), 'g', x, norv.pdf(x), 'b', x, t_line, 'r')\n",
      "        ax.set_xlabel(\"t-value - H1 centred on \" + r\"$\\theta $\" + \" = %4.2f;  \" %theta \n",
      "                      + r\"$\\mu$\" + \" = %4.2f\" %mu); \n",
      "        ax.set_ylabel(\"Probability(t)\");\n",
      "        ax.set_title('H0 and H1 sampling densities ' \n",
      "                     + r'$\\beta$' + '= %3.2f' %spow + ' n = %d' %n)\n",
      "\n",
      "    return spow\n"
     ],
     "language": "python",
     "metadata": {},
     "outputs": [],
     "prompt_number": 46
    },
    {
     "cell_type": "code",
     "collapsed": false,
     "input": [
      "n = 16\n",
      "mu = .3\n",
      "sigma = 1.\n",
      "stat_power(n, mu, sigma, plot=True, alpha=0.05, xlen=500)\n",
      "# make it nice with http://matplotlib.org/xkcd/examples/showcase/integral_demo.html"
     ],
     "language": "python",
     "metadata": {},
     "outputs": [
      {
       "metadata": {},
       "output_type": "pyout",
       "prompt_number": 47,
       "text": [
        "0.30892736805128362"
       ]
      },
      {
       "metadata": {},
       "output_type": "display_data",
       "png": "[encoded data removed]",
       "text": [
        "<matplotlib.figure.Figure at 0x3f0eb90>"
       ]
      }
     ],
     "prompt_number": 47
    },
    {
     "cell_type": "markdown",
     "metadata": {},
     "source": [
      "The reason why the alternative hypothesis H1 is not centred on $mu$ is that the normalised effect under H1 (the effect that has standard deviation of 1) is : $$\\theta = \\frac{\\mu\\sqrt{n}}{\\sigma}$$"
     ]
    },
    {
     "cell_type": "code",
     "collapsed": false,
     "input": [
      "pw = [stat_power(n, mu, sigma) for n in range(7, 77, 3)]    "
     ],
     "language": "python",
     "metadata": {},
     "outputs": [],
     "prompt_number": 48
    },
    {
     "cell_type": "code",
     "collapsed": false,
     "input": [
      "muse = (.1,.2,.3,.4,.5,.6);\n",
      "mstr = [ 'mu='+str(m) for m in muse]\n",
      "nses = range(7, 77, 3); lines=[]\n",
      "\n",
      "for mu in (muse):\n",
      "    pw = [stat_power(n, mu, sigma, plot=False) for n in nses]    \n",
      "    (pl,) = plt.plot(nses, pw)\n",
      "    lines.append(pl)\n",
      "plt.legend( l, mstr, 'upper right', shadow=True)\n",
      "plt.xlabel(\" Number of subjects \")\n",
      "plt.ylabel(\" Power \");"
     ],
     "language": "python",
     "metadata": {},
     "outputs": [
      {
       "metadata": {},
       "output_type": "display_data",
       "png": "[encoded data removed]",
       "text": [
        "<matplotlib.figure.Figure at 0x51d4210>"
       ]
      }
     ],
     "prompt_number": 73
    },
    {
     "cell_type": "heading",
     "level": 3,
     "metadata": {},
     "source": [
      "Cohen's d value:"
     ]
    },
    {
     "cell_type": "markdown",
     "metadata": {},
     "source": [
      "Cohen's d value simply normalize the sigma such that it is one. in the example above, cohen's d are simply :"
     ]
    },
    {
     "cell_type": "code",
     "collapsed": false,
     "input": [
      "# print some cohen values\n",
      "sigmas = np.linspace(1.,.5,len(muse))\n",
      "cohenstr = [\"For sigma = %3.2f and m = %3.2f Cohen d = %3.2f\" %(sig,mu,coh) \n",
      "       for (sig,mu,coh) in zip(sigmas,muse, np.asarray(muse)/sigmas)]\n",
      "for s in cohenstr:\n",
      "    print s"
     ],
     "language": "python",
     "metadata": {},
     "outputs": [
      {
       "output_type": "stream",
       "stream": "stdout",
       "text": [
        "[ 1.   0.9  0.8  0.7  0.6  0.5]\n",
        "For sigma = 1.00 and m = 0.10 Cohen d = 0.10\n",
        "For sigma = 0.90 and m = 0.20 Cohen d = 0.22\n",
        "For sigma = 0.80 and m = 0.30 Cohen d = 0.37\n",
        "For sigma = 0.70 and m = 0.40 Cohen d = 0.57\n",
        "For sigma = 0.60 and m = 0.50 Cohen d = 0.83\n",
        "For sigma = 0.50 and m = 0.60 Cohen d = 1.20\n"
       ]
      }
     ],
     "prompt_number": 84
    },
    {
     "cell_type": "markdown",
     "metadata": {},
     "source": [
      "From https://en.wikipedia.org/wiki/Cohen%27s_d#Cohen.27s_d :\n",
      "\n",
      "\"For Cohen's d an effect size of 0.2 to 0.3 might be a \"small\" effect, around 0.5 a \"medium\" effect and 0.8 to infinity, a \"large\" effect.[7]:25 (But note that the d might be larger than one.)\n",
      "Cohen's text[7] anticipates Lenth's concerns:\"\n",
      "\n",
      "\"The terms 'small,' 'medium,' and 'large' are relative, not only to each other, but to the area of behavioral science or even more particularly to the specific content and research method being employed in any given investigation....In the face of this relativity, there is a certain risk inherent in offering conventional operational definitions for these terms for use in power analysis in as diverse a field of inquiry as behavioral science. This risk is nevertheless accepted in the belief that more is to be gained than lost by supplying a common conventional frame of reference which is recommended for use only when no better basis for estimating the ES index is available.\"\n"
     ]
    },
    {
     "cell_type": "heading",
     "level": 2,
     "metadata": {},
     "source": [
      "Button et al. : three messages"
     ]
    },
    {
     "cell_type": "heading",
     "level": 3,
     "metadata": {},
     "source": [
      "message1 : studies of low power have low probability of detecting an effect"
     ]
    },
    {
     "cell_type": "heading",
     "level": 4,
     "metadata": {},
     "source": [
      "From the definition of power !"
     ]
    },
    {
     "cell_type": "heading",
     "level": 3,
     "metadata": {},
     "source": [
      "message2 : studies of low power have low positive predictive value : PPV = P(H1 True | detection)"
     ]
    },
    {
     "cell_type": "markdown",
     "metadata": {},
     "source": [
      "Same as Ioannidis : \n",
      "Say that $H_1$ is the event that the alternative hypothesis is true, \n",
      "that $H_0$ is the event that the null hypothesis is true, $P_1 = P(H_1), P_0 = P(H_0)$, $D$ is the event of detection and $N$ is the event of no detection. \n",
      "\n",
      "From Button et al., we have the positive predictive value PPV defined as :\n",
      "\n",
      "$$\n",
      "PPV = \\frac{(1-\\beta)R}{(1-\\beta)R + \\alpha},\\textrm{ with } R = P(H_1)/P(H_0) = P_1 / P_0\n",
      "$$\n",
      "\n",
      "Hence, \n",
      "\n",
      "$$\n",
      "PPV = \\frac{(1-\\beta)P_1}{P_0}\\frac{P_0}{(1-\\beta)P_1 + \\alpha P_0} \n",
      "$$\n",
      "\n",
      "$$\n",
      "= \\frac{(1-\\beta)P_1}{(1-\\beta)P_1 + \\alpha P_0} \n",
      "$$\n",
      "\n",
      "$$\n",
      "= P(H_1, D) / P(D) = P(H_1 | D) \n",
      "$$"
     ]
    },
    {
     "cell_type": "markdown",
     "metadata": {},
     "source": [
      "If we have 4 chances over 5 that $H_0$ is true, and one over five that $H_1$ true, then R = 1/5 / 4/5 = .25. If there's 30% power we have PPV = 50%. So, 50% chance that our result is indeed true. 80% power leads to 80% chance. "
     ]
    },
    {
     "cell_type": "code",
     "collapsed": false,
     "input": [
      "def PPV(R, Pw, alpha, verbose=True):\n",
      "    ppv = (Pw * R)/(Pw*R + alph)\n",
      "    if verbose:\n",
      "        print(\"with odd ratio=%3.2f, \"\n",
      "               \"power=%3.2f, alpha=%3.2f,\"\n",
      "               \"PPV=%3.2f\" %(R,Pw,alph,ppv))\n",
      "    return ppv\n",
      "    "
     ],
     "language": "python",
     "metadata": {},
     "outputs": [],
     "prompt_number": 120
    },
    {
     "cell_type": "code",
     "collapsed": false,
     "input": [
      "# example from Button et al: P1 = 1/5, P0 = 4/5. R = 1/4\n",
      "R = 1./4.\n",
      "Pw = .8\n",
      "alph = .05\n",
      "PPV(R, Pw, alph)"
     ],
     "language": "python",
     "metadata": {},
     "outputs": [
      {
       "output_type": "stream",
       "stream": "stdout",
       "text": [
        "with odd ratio=0.25, power=0.80, alpha=0.05,PPV=0.80\n"
       ]
      },
      {
       "metadata": {},
       "output_type": "pyout",
       "prompt_number": 121,
       "text": [
        "0.8"
       ]
      }
     ],
     "prompt_number": 121
    },
    {
     "cell_type": "code",
     "collapsed": false,
     "input": [
      "# if power is small :\n",
      "R = 1./4.\n",
      "Pw = np.arange(.1,1,.2)\n",
      "alph = .05\n",
      "for pw in Pw:\n",
      "    PPV(R, pw, alph)\n"
     ],
     "language": "python",
     "metadata": {},
     "outputs": [
      {
       "output_type": "stream",
       "stream": "stdout",
       "text": [
        "with odd ratio=0.25, power=0.10, alpha=0.05,PPV=0.33\n",
        "with odd ratio=0.25, power=0.30, alpha=0.05,PPV=0.60\n",
        "with odd ratio=0.25, power=0.50, alpha=0.05,PPV=0.71\n",
        "with odd ratio=0.25, power=0.70, alpha=0.05,PPV=0.78\n",
        "with odd ratio=0.25, power=0.90, alpha=0.05,PPV=0.82\n"
       ]
      }
     ],
     "prompt_number": 122
    },
    {
     "cell_type": "heading",
     "level": 3,
     "metadata": {},
     "source": [
      "message3 : studies of low power exagerate the effect size of claimed effects"
     ]
    },
    {
     "cell_type": "markdown",
     "metadata": {},
     "source": [
      "If the power is small, the studies that will find an effect significant will be estimating a stronger effect than the true one. Let's simulate the phenomenon."
     ]
    },
    {
     "cell_type": "code",
     "collapsed": false,
     "input": [
      "n = 16 # number of subjects\n",
      "sigma = 1.0\n",
      "mu = .4\n",
      "alpha = .01\n",
      "pw = stat_power(n, mu, sigma, alpha=alpha, plot=True)\n",
      "print pw"
     ],
     "language": "python",
     "metadata": {},
     "outputs": [
      {
       "output_type": "stream",
       "stream": "stdout",
       "text": [
        "0.192860126236\n"
       ]
      },
      {
       "metadata": {},
       "output_type": "display_data",
       "png": "[encoded data removed]",
       "text": [
        "<matplotlib.figure.Figure at 0x3addd10>"
       ]
      }
     ],
     "prompt_number": 137
    },
    {
     "cell_type": "code",
     "collapsed": false,
     "input": [
      "Nexp = 100\n",
      "\n",
      "norv = sst.norm(0., sigma)\n",
      "strv = sst.t(n-1)\n",
      "t_05 = strv.isf(.05)\n",
      "sample = norv.rvs(size=(n,1)) + mu\n",
      "#print np.std(sample)\n",
      "\n",
      "tval = np.zeros((Nexp,))\n",
      "effects = np.zeros((Nexp,))\n",
      "effectsize = np\n",
      "nb_detection = 0\n",
      "for e in range(Nexp):\n",
      "    sample = norv.rvs(size=(n,1)) + mu\n",
      "    tval[e] = sample.mean()*sqrt(n)/np.std(sample, ddof=1)\n",
      "    effects[e] = sample.mean()/np.std(sample, ddof=1)\n",
      "\n",
      "relbias = 100*(effects[tval > t_05].mean() - mu)/mu\n",
      "print \"mean effect\", effects.mean()\n",
      "print \"mean effect when test significant\", effects[tval > t_05].mean()\n",
      "\n",
      "print \"relative bias: %3.2f \" % relbias"
     ],
     "language": "python",
     "metadata": {},
     "outputs": [
      {
       "output_type": "stream",
       "stream": "stdout",
       "text": [
        "mean effect 0.459261770532\n",
        "mean effect when test significant 0.693823090396\n",
        "relative bias: 73.46 \n"
       ]
      }
     ],
     "prompt_number": 138
    },
    {
     "cell_type": "code",
     "collapsed": false,
     "input": [
      "x = range(Nexp)\n",
      "t05_line = np.ones_like(x)*t_05\n",
      "true_effect = np.ones_like(x)*mu\n",
      "\n",
      "_ = plot(x, effects, 'b-', x, t05_line/sqrt(n), 'g-', x, true_effect, 'r--') "
     ],
     "language": "python",
     "metadata": {},
     "outputs": [
      {
       "metadata": {},
       "output_type": "display_data",
       "png": "[encoded data removed]",
       "text": [
        "<matplotlib.figure.Figure at 0x61e0d90>"
       ]
      }
     ],
     "prompt_number": 144
    },
    {
     "cell_type": "code",
     "collapsed": false,
     "input": [
      "from IPython.display import Image as Image"
     ],
     "language": "python",
     "metadata": {},
     "outputs": []
    },
    {
     "cell_type": "markdown",
     "metadata": {},
     "source": [
      "Another of seeing the same thing in Button et al, 2013:"
     ]
    },
    {
     "cell_type": "code",
     "collapsed": false,
     "input": [
      "Image('./figures/button_fig5.png')"
     ],
     "language": "python",
     "metadata": {},
     "outputs": []
    },
    {
     "cell_type": "heading",
     "level": 4,
     "metadata": {},
     "source": [
      "Replication should be done with more subjects, not the same amount. "
     ]
    },
    {
     "cell_type": "markdown",
     "metadata": {},
     "source": [
      "A graph I have a hard time understanding:"
     ]
    },
    {
     "cell_type": "code",
     "collapsed": false,
     "input": [
      "Image('./figures/button_fig1.png')"
     ],
     "language": "python",
     "metadata": {},
     "outputs": []
    },
    {
     "cell_type": "heading",
     "level": 4,
     "metadata": {},
     "source": [
      "Looking at the median power study of 49 Meta analysis : median power of studies in those"
     ]
    },
    {
     "cell_type": "code",
     "collapsed": false,
     "input": [
      "Image('./figures/button_fig2.png')"
     ],
     "language": "python",
     "metadata": {},
     "outputs": []
    },
    {
     "cell_type": "heading",
     "level": 2,
     "metadata": {},
     "source": [
      "Karl Friston 16 subjects magic number - Tal Yarkoni's answer"
     ]
    },
    {
     "cell_type": "heading",
     "level": 3,
     "metadata": {},
     "source": [
      "Summary of the argument:"
     ]
    },
    {
     "cell_type": "markdown",
     "metadata": {},
     "source": [
      "1.  The null is always false: no effects are ever truly zero. Collect enough data and you will always end up rejecting the null.\n",
      "\n",
      "2.  Large effects are more important than small ones. Very small effects are \u2018trivial\u2019.\n",
      "\n",
      "3.  Very large samples will invariably end up identifying many small uninteresting effects. We should sample few subjects to detect only the big effects.\n"
     ]
    },
    {
     "cell_type": "code",
     "collapsed": false,
     "input": [
      "# power of KF analysis : d=1, \n",
      "n = 16; mu = .25; sigma = 1.; alpha = 0.0001\n",
      "stat_power(n, mu, sigma, alpha=alpha)"
     ],
     "language": "python",
     "metadata": {},
     "outputs": []
    },
    {
     "cell_type": "markdown",
     "metadata": {},
     "source": [
      "The problem of this argument:\n",
      "\n",
      "1. We are in a less favorable case - eg p-values threshold are less than 0.05 because of MC, effect size are smaller\n",
      "\n",
      "2. The uncertainty of small n results is very high. Confidence interval are just above zero.\n",
      "\n",
      "3. Our prior is that effect sizes are small: \n"
     ]
    },
    {
     "cell_type": "heading",
     "level": 3,
     "metadata": {},
     "source": [
      "1. A less favorable case"
     ]
    },
    {
     "cell_type": "code",
     "collapsed": false,
     "input": [
      "# analysis in a slightly less favorable case \n",
      "n = 16; mu = .5; sigma = 1.; alpha = 0.001\n",
      "stat_power(n, mu, sigma, plot=True, alpha = alpha)"
     ],
     "language": "python",
     "metadata": {},
     "outputs": []
    },
    {
     "cell_type": "heading",
     "level": 4,
     "metadata": {},
     "source": [
      "We are doing many test and have to decrease $\\alpha$ - "
     ]
    },
    {
     "cell_type": "markdown",
     "metadata": {},
     "source": [
      "What would be n for 80% in this situation ? Let's work out the formula - but let's do it with a normal approximation."
     ]
    },
    {
     "cell_type": "code",
     "collapsed": false,
     "input": [
      "def n_power(pw=.8, mu=1., sigma=1., alpha=0.05):\n",
      "\n",
      "    norv = sst.norm(0,1.)\n",
      "    ta = norv.ppf(1 - alpha)\n",
      "    tb = norv.ppf(1 - pw)\n",
      "    n = (sigma*(ta - tb)/mu)**2\n",
      "    return n\n"
     ],
     "language": "python",
     "metadata": {},
     "outputs": []
    },
    {
     "cell_type": "code",
     "collapsed": false,
     "input": [
      "mu = .3; sigma = 1.; alpha = 0.001; pw = .8\n",
      "print stat_power(67, mu, sigma, plot=True, alpha=alpha)\n",
      "print n_power(pw, mu, sigma, alpha=alpha)\n"
     ],
     "language": "python",
     "metadata": {},
     "outputs": []
    },
    {
     "cell_type": "markdown",
     "metadata": {},
     "source": [
      "So, in neuroimaging where our non corrected p-value needs to be small, let's plot n as a function of alpha :"
     ]
    },
    {
     "cell_type": "code",
     "collapsed": false,
     "input": [
      "mu = .7; sigma = 1.; pw = .8\n",
      "\n",
      "lnalph = np.arange(1.9,5.1,.1)\n",
      "nsub = [n_power(pw, mu, sigma, alpha=10**(-a)) for a in lnalph]\n",
      "x = 10**(-lnalph)\n",
      "#print x\n",
      "plot(x,nsub)\n",
      "#xscale('log')"
     ],
     "language": "python",
     "metadata": {},
     "outputs": []
    },
    {
     "cell_type": "heading",
     "level": 3,
     "metadata": {},
     "source": [
      "2. The uncertainty of small n results is very high. Confidence interval are just above zero."
     ]
    },
    {
     "cell_type": "code",
     "collapsed": false,
     "input": [
      "n = 100; mu = .3; sigma = 1.; alpha = 0.05\n",
      "df = n-1\n",
      "print 'power = ', stat_power(n, mu)  \n",
      "\n",
      "norv = sst.norm(0., sigma)\n",
      "strv = sst.t(df)\n",
      "t_alph = strv.isf(alpha)\n",
      "print t_alph\n",
      "\n",
      "Nexp = 500\n",
      "t = np.zeros((Nexp,))\n",
      "lCI = np.zeros((Nexp,))\n",
      "uCI = np.zeros((Nexp,))\n",
      "\n",
      "for e in range(Nexp):\n",
      "    sample = norv.rvs(size=(n,)) + mu\n",
      "    effect = sample.mean()\n",
      "    sigma_n = np.std(sample, ddof=1)/sqrt(n)\n",
      "    t[e] = effect/sigma_n\n",
      "    lCI[e] =  t[e] - t_alph # sst.nct.ppf(.05, df, t[e]) #\n",
      "    uCI[e] = t[e] + t_alph # sst.nct.ppf(.95, df, t[e]) # \n",
      "\n",
      "detect = t>t_alph\n",
      "x = np.arange(Nexp)\n",
      "xd = x[detect]\n",
      "print 'number of detections:', xd.shape\n",
      "\n",
      "mu_line = np.ones((Nexp,))*mu\n",
      "#plot(t[detect])\n",
      "\n",
      "f = plt.figure(1).set_size_inches(12,4)\n",
      "_ = plt.plot(xd, lCI[detect]/sqrt(n), xd, t[detect]/sqrt(n), xd, mu_line[detect]) "
     ],
     "language": "python",
     "metadata": {},
     "outputs": []
    },
    {
     "cell_type": "heading",
     "level": 3,
     "metadata": {},
     "source": [
      "3. Our prior is that effect sizes are small"
     ]
    },
    {
     "cell_type": "markdown",
     "metadata": {},
     "source": [
      "* big effects have been found\n",
      "* big effect sizes are less likely than small ones :  the prior of big effects is low\n",
      "* large sample studies report lower effects - as well as intra subjects"
     ]
    },
    {
     "cell_type": "markdown",
     "metadata": {},
     "source": [
      "Example of Desmond and Glover 2002: using a threshold of 0.01, working memory task, 12 subject:"
     ]
    },
    {
     "cell_type": "code",
     "collapsed": false,
     "input": [
      "Image('./figures/Desmond_Glover_effectsize.png')"
     ],
     "language": "python",
     "metadata": {},
     "outputs": []
    },
    {
     "cell_type": "heading",
     "level": 2,
     "metadata": {},
     "source": [
      "References"
     ]
    },
    {
     "cell_type": "markdown",
     "metadata": {},
     "source": [
      "Katherine S. Button, John P. A. Ioannidis, Claire Mokrysz1, Brian A. Nosek4,\n",
      "Jonathan Flint5, Emma S. J. Robinson6 and Marcus R. Munaf\u00f2. Power failure: why small sample\n",
      "size undermines the reliability of neuroscience.\n",
      "\n",
      "\n",
      "T. Yarkoni, 2012 [citation needed]\u00bb Blog Archive \u00bb Sixteen is not magic: Comment on Friston (2012)\n",
      "\n",
      "Desmond and Glover, Estimating sample size in functional MRI (fMRI) neuroimaging\n",
      "studies: Statistical power analyses, Journal of Neuroscience Methods 118 (2002) 115\u0004/128.\n",
      "\n",
      "K. Friston, 2012, Neuroimage. Ten ironic rules for non-statistical reviewers\n",
      "\n",
      "Carp, J. The secret lives of experiments: methods reporting in the fMRI literature. Neuroimage 63,\n",
      "289\u2013300 (2012).\n",
      "\n",
      "This article reviews methods reporting and methodological choices across 241 recent fMRI\n",
      "studies and shows that there were nearly as many unique analytical pipelines as there were studies. In\n",
      "addition, many studies were underpowered to detect plausible effects.\n",
      "\n",
      "Simmons 2011\n",
      "\n",
      "Begley nature \n"
     ]
    },
    {
     "cell_type": "heading",
     "level": 2,
     "metadata": {},
     "source": [
      "Appendix\n"
     ]
    },
    {
     "cell_type": "heading",
     "level": 3,
     "metadata": {},
     "source": [
      "KF rules:"
     ]
    },
    {
     "cell_type": "markdown",
     "metadata": {},
     "source": [
      "Here only the 3 rules pointed out by T.Y. that seem more detrimental than helpful are discussed.\n",
      "\n",
      "\n",
      "* Rule number four: the under-sampled study\n",
      "         \"your study is undersampled\"\n",
      "         \n",
      "Answ: Results are stronger because a significant result (properly controlled for false positives), based on a small sample indicates the treatment effect is actually larger than the equivalent result with a large sample. In short, not only is our result statistically valid. It is quantitatively stronger than the same result with a larger number of subjects\n",
      "\n",
      "* Rule number five: the over-sampled study\n",
      "        \"If I have to analyse 100 patients before finding a discernible effect, one has to ask whether this effect has any diagnostic or predictive value.\" \n",
      "\n",
      "No specific answer to this criticism.\n",
      "\n",
      "* Rule number eight: exploit double dipping supersticious thinking\n",
      "        \"Report effect sizes based upon data (regions of interest) previously identified as significant in their whole brain analysis. This is not valid.\"\n",
      "\n",
      "Answ : the effect size pertains to the data used to make an inference \u2014 and can be regarded as an in-sample prediction of the treatment effect.\n",
      "\n"
     ]
    },
    {
     "cell_type": "heading",
     "level": 3,
     "metadata": {},
     "source": [
      "Derivation of the non central t stat :"
     ]
    },
    {
     "cell_type": "markdown",
     "metadata": {},
     "source": [
      "if our observations are $y_i$ for say $n$ subjects, we estimate\n",
      "\n",
      "$\\hat{\\mu} = \\sum_{i=1}^n y_i /n = \\bar{y}$\n",
      "\n",
      "We suppose : $ y_i \\sim N(\\mu,\\sigma^2) $ and want to test if $\\mu = 0$\n",
      "\n",
      "and for the standard error of the estimated mean we have \n",
      "\n",
      "$Var(\\hat{\\mu}) = \\frac{ \\sum_{i=1}^n Var(y_i) }{n^2} =  \\sigma^2$ / n\n",
      "\n",
      "In general we dont know $\\sigma$, and we need an estimate of it.  This is obtained with \n",
      "\n",
      "$$\n",
      "\\hat{\\sigma^2} = \\frac { \\sum_{i=1}^n (y_i - \\bar{y})^2 }{ n-1 } = \\frac{n}{n-1} RMS    \n",
      "$$\n",
      "\n",
      "RMS : the residual mean square\n",
      "\n",
      "$$\\hat{Var}(\\hat{\\mu}) = \\frac{ RMS}{n - 1}$$\n",
      "\n",
      "and\n",
      "\n",
      "$$ \\hat{SE} = \\sqrt{\\frac{ RMS}{n - 1}} $$\n",
      "\n",
      "So, eventually, we get:\n",
      "\n",
      "$$ \n",
      "t = \\frac{ \\bar{y}}{\\sqrt{\\frac{ RMS}{n - 1}}}\n",
      "$$"
     ]
    },
    {
     "cell_type": "markdown",
     "metadata": {},
     "source": [
      "well, our statistics is still the same :\n",
      "\n",
      "$$ \n",
      "t = \\frac{ \\bar{y}}{\\sqrt{\\frac{ RMS}{n - 1}}}\n",
      "$$\n",
      "\n",
      "and the $y_i$ are from $N(\\mu,\\sigma^2)$. \n",
      "\n",
      "\n",
      "** here the derivation ** \n",
      "\n",
      "Therefore This t value follows a non central t distribution with $n-1$ degrees of freedom and non centrality parameter $\\theta = \\mu \\sqrt{n}/\\sigma$. We are going to use this for our power analysis. Let's call this distribution probability density function $t_{nc,\\theta,n-1}$, or $t_{nc}$, and its cumulative density function $F_{nc}"
     ]
    },
    {
     "cell_type": "code",
     "collapsed": false,
     "input": [],
     "language": "python",
     "metadata": {},
     "outputs": []
    }
   ],
   "metadata": {}
  }
 ]
}